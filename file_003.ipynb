{
 "cells": [
  {
   "cell_type": "markdown",
   "id": "26438224",
   "metadata": {},
   "source": [
    "# Module\n"
   ]
  },
  {
   "cell_type": "markdown",
   "id": "d103fc42",
   "metadata": {},
   "source": [
    "Using turtle to draw a square "
   ]
  },
  {
   "cell_type": "code",
   "execution_count": 1,
   "id": "3b1779d7",
   "metadata": {},
   "outputs": [],
   "source": [
    "import turtle as t\n",
    "t.color(\"green\")\n",
    "t.forward(100)\n",
    "t.left(90)\n",
    "t.forward(100)\n",
    "t.left(90)\n",
    "t.forward(100)\n",
    "t.left(90)\n",
    "t.forward(100)"
   ]
  },
  {
   "cell_type": "markdown",
   "id": "3bd757a9",
   "metadata": {},
   "source": [
    "draw a triangle"
   ]
  },
  {
   "cell_type": "code",
   "execution_count": 6,
   "id": "03e3905a",
   "metadata": {},
   "outputs": [],
   "source": [
    "\n",
    "   import turtle as A\n",
    "   A.color(\"blue\")\n",
    "   A.pensize(5)\n",
    "   A.forward(100)\n",
    "   A.left(120)\n",
    "   A.forward(100)\n",
    "   A.left(120)\n",
    "   A.forward(100)"
   ]
  },
  {
   "cell_type": "markdown",
   "id": "c0506516",
   "metadata": {},
   "source": [
    "Draw a rectangle with length 300 and breadth 100"
   ]
  },
  {
   "cell_type": "code",
   "execution_count": 8,
   "id": "6931c635",
   "metadata": {},
   "outputs": [],
   "source": [
    "import turtle as t\n",
    "t.color(\"yellow\")\n",
    "t.forward(300)\n",
    "t.left(90)\n",
    "t.forward(100)\n",
    "t.left(90)\n",
    "t.forward(300)\n",
    "t.left(90)\n",
    "t.forward(100)"
   ]
  },
  {
   "cell_type": "markdown",
   "id": "99fb4467",
   "metadata": {},
   "source": [
    "There are 20 students in a class room, their ID card numbers are 501,502.....upto 520. Principal announced that one of them can visit an exhibition. For that teacher need to select a student in random. How to do it by using coding."
   ]
  },
  {
   "cell_type": "code",
   "execution_count": 9,
   "id": "6efbe892",
   "metadata": {},
   "outputs": [
    {
     "data": {
      "text/plain": [
       "518"
      ]
     },
     "execution_count": 9,
     "metadata": {},
     "output_type": "execute_result"
    }
   ],
   "source": [
    "import random as r\n",
    "r.randint(501,520)"
   ]
  }
 ],
 "metadata": {
  "kernelspec": {
   "display_name": "Python 3 (ipykernel)",
   "language": "python",
   "name": "python3"
  },
  "language_info": {
   "codemirror_mode": {
    "name": "ipython",
    "version": 3
   },
   "file_extension": ".py",
   "mimetype": "text/x-python",
   "name": "python",
   "nbconvert_exporter": "python",
   "pygments_lexer": "ipython3",
   "version": "3.9.7"
  }
 },
 "nbformat": 4,
 "nbformat_minor": 5
}
